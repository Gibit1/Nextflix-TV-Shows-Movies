{
 "cells": [
  {
   "cell_type": "markdown",
   "id": "5b3c7023-4d11-45ce-b08d-45401cca1f78",
   "metadata": {},
   "source": [
    "## AKONA CIKO _Project"
   ]
  },
  {
   "cell_type": "markdown",
   "id": "a01368ef-e6df-42e8-8b40-68096001787d",
   "metadata": {},
   "source": [
    "### README.md|txt file"
   ]
  },
  {
   "cell_type": "raw",
   "id": "99db57b6-000c-4d44-b802-dd9dd2bdde2c",
   "metadata": {},
   "source": [
    "# Netflix Movies & TV Shows Classification\n",
    "\n",
    "## Project Overview_\n",
    "This project aims to classify Netflix titles as either \"Movie\" or \"TV Show\" and predict their rating category using machine learning techniques. The dataset contains various details like director, cast, country, release year, and more, which will be used to build predictive models.\n",
    "\n",
    "## Dataset_\n",
    "The dataset includes information about Netflix movies and TV shows such as:\n",
    "- Type (Movie/TV Show)\n",
    "- Title\n",
    "- Director & Cast\n",
    "- Country\n",
    "- Release Year\n",
    "- Rating\n",
    "- Duration\n",
    "- Listed Categories\n",
    "- Description\n",
    "\n",
    "## Steps Involved_\n",
    "1. Data Cleaning & Preprocessing\n",
    "2. Exploratory Data Analysis (EDA)\n",
    "3. Feature Engineering\n",
    "4. Model Building & Evaluation\n",
    "5. Hyperparameter Tuning\n",
    "6. Deployment Considerations\n",
    "\n",
    "## Installation_\n",
    "To install the required dependencies, run:\n",
    "```bash\n",
    "pip install -r requirements.txt\n",
    "\n",
    "## Link to Presentation / Visual Summary: PowerPoint.file (attached to complete Repo- report)\n",
    "\n",
    "## Key Highlights: \n",
    "\n",
    "## Manager / Contributor: \n",
    "Akona Ciko | Akonaciko1@gmail.com | Gibit (username) |\n",
    "\n",
    "*************************************************************** Thank you ******************************************************************************"
   ]
  },
  {
   "cell_type": "markdown",
   "id": "62fca82b-ee22-43e9-ad1b-8cef215f2601",
   "metadata": {},
   "source": [
    "### Requirement.txt|file"
   ]
  },
  {
   "cell_type": "raw",
   "id": "094f9d7b-2391-49d2-87b4-da07ec092e5f",
   "metadata": {},
   "source": [
    "pandas\n",
    "numpy\n",
    "matplotlib\n",
    "seaborn\n",
    "scikit-learn\n",
    "nltk\n",
    "wordcloud\n",
    "jupyter"
   ]
  },
  {
   "cell_type": "markdown",
   "id": "f18f68d0-df7d-4867-b968-316730e48876",
   "metadata": {},
   "source": [
    "### Technologies Used"
   ]
  },
  {
   "cell_type": "raw",
   "id": "a406383e-8417-48b8-8042-f1ec1bdfb4b2",
   "metadata": {},
   "source": [
    "Jupyter Notebook\n",
    "Python\n",
    "Pandas, NumPy\n",
    "Matplotlib, Seaborn\n",
    "Scikit-learn\n",
    "Natural Language Processing (NLP) for text-based features"
   ]
  },
  {
   "cell_type": "markdown",
   "id": "8b8992b0-16e8-4a45-b628-f9ee557f3600",
   "metadata": {},
   "source": [
    "### Necessary Libraries & Packages"
   ]
  },
  {
   "cell_type": "raw",
   "id": "50737f23-c90c-4371-8e4d-7df9dfa5df90",
   "metadata": {},
   "source": [
    "Here are the key libraries I will need for the project:\n",
    "\n",
    "#### **Data Handling**\n",
    "- `pandas` → Data manipulation and analysis\n",
    "- `numpy` → Numerical computations\n",
    "\n",
    "#### **Data Visualization**\n",
    "- `matplotlib` → Basic plotting\n",
    "- `seaborn` → Statistical visualizations\n",
    "- `wordcloud` → Generating word clouds from text data\n",
    "\n",
    "#### **Machine Learning**\n",
    "- `scikit-learn` → Classification models, evaluation metrics\n",
    "- `nltk` → Natural language processing (for handling text-based features)\n",
    "\n",
    "#### **Jupyter Notebook**\n",
    "- `jupyter` → Running interactive notebooks"
   ]
  },
  {
   "cell_type": "markdown",
   "id": "0c34013e-29d0-4757-8a2e-6f9abda26625",
   "metadata": {},
   "source": [
    "### Table of Contents"
   ]
  },
  {
   "cell_type": "raw",
   "id": "1bee0a2e-6358-4de4-b4e0-3fdeeb1750c8",
   "metadata": {},
   "source": [
    "1.Introduction\n",
    "\n",
    "Background & Context\n",
    "Project Objective\n",
    "Dataset Overview\n",
    "\n",
    "2. Exploratory Data Analysis (EDA)\n",
    "\n",
    "Data Understanding\n",
    "Data Cleaning & Preprocessing\n",
    "Summary Statistics\n",
    "Visualizations\n",
    "\n",
    "3. Feature Engineering\n",
    "\n",
    "Handling Missing Values\n",
    "Encoding Categorical Features\n",
    "Feature Selection\n",
    "\n",
    "4. Classification Models\n",
    "\n",
    "Model Selection\n",
    "Training the \"Movie vs. TV Show\" Classifier\n",
    "Training the \"Rating Prediction\" Model\n",
    "\n",
    "5. Model Evaluation\n",
    "\n",
    "Performance Metrics (Accuracy, Precision, Recall, F1-Score)\n",
    "Confusion Matrix Analysis\n",
    "\n",
    "6. Hyperparameter Tuning & Optimization\n",
    "\n",
    "GridSearchCV / RandomizedSearchCV\n",
    "Cross-validation\n",
    "\n",
    "7. Deployment & Conclusion\n",
    "\n",
    "Model Deployment Considerations\n",
    "Final Insights & Recommendations"
   ]
  },
  {
   "cell_type": "markdown",
   "id": "e9213ba8-a33d-46e8-a717-35757c180c93",
   "metadata": {},
   "source": [
    "### Libraries & Packages_"
   ]
  },
  {
   "cell_type": "code",
   "execution_count": null,
   "id": "0554f0b1-b708-4fd7-a567-131969368f59",
   "metadata": {},
   "outputs": [],
   "source": []
  },
  {
   "cell_type": "code",
   "execution_count": null,
   "id": "4e3c05b0-d420-4a3e-9de1-d93d3077d4ef",
   "metadata": {},
   "outputs": [],
   "source": [
    "--------------------------------------------------------------> Netflix Kick-off ! ! <------------------------------------------------------------------"
   ]
  },
  {
   "cell_type": "markdown",
   "id": "744dd4fb-eedb-4635-be22-bcb5ad1e34bf",
   "metadata": {},
   "source": [
    "### 1. Introduction:"
   ]
  },
  {
   "cell_type": "raw",
   "id": "79394987-ff49-4e8e-9f2a-572e712ba943",
   "metadata": {},
   "source": [
    "Background & Context_\n",
    "\n",
    "Netflix is one of the leading streaming platforms, offering a vast library of movies and TV shows across multiple genres. With over 282 million subscribers globally (as of 2024), understanding content trends is crucial for improving recommendations, audience targeting, and content acquisition strategies. This project aims to analyze Netflix's catalog to classify titles as \"Movie\" or \"TV Show\" and predict content ratings (e.g., PG-13, TV-MA) using machine learning techniques."
   ]
  },
  {
   "cell_type": "raw",
   "id": "ca63be38-34f2-4670-aa35-d426d0d01fd3",
   "metadata": {},
   "source": [
    "Project Objective_\n",
    "\n",
    "The objective of this project is to develop machine learning models to classify Netflix titles into \"Movie\" or \"TV Show\" and predict their content rating category (e.g., \"PG-13\", \"TV-MA\"). This will help in understanding content distribution patterns and assisting in recommendation systems. The models will be built using Python, leveraging machine learning libraries for feature extraction, training, and evaluation."
   ]
  },
  {
   "cell_type": "raw",
   "id": "e6bde04d-a429-43d0-ae08-9d0f21f369ea",
   "metadata": {},
   "source": [
    "Dataset Overview_\n",
    "\n",
    "The dataset contains information on Netflix’s movies and TV shows, including:\n",
    "\n",
    "-Type: Movie or TV Show\n",
    "-Title: Name of the content\n",
    "-Director & Cast: Key personnel involved\n",
    "-Country: Production country\n",
    "-Date Added: When it was added to Netflix\n",
    "-Release Year: Original release year\n",
    "-Rating: Audience content rating (e.g., PG, TV-MA)\n",
    "-Duration: Length (in minutes for movies, seasons for TV shows)\n",
    "-Genres: Categories (e.g., Drama, Comedy, Thriller)\n",
    "-Description: A short synopsis of the title\n",
    "\n",
    "This dataset will be used to train machine learning models for classification tasks."
   ]
  },
  {
   "cell_type": "raw",
   "id": "4316eada-f397-4e06-97e0-c6c0d2802eed",
   "metadata": {},
   "source": [
    "********************************************************************************************************************************************************"
   ]
  },
  {
   "cell_type": "raw",
   "id": "acc86cc1-6b08-470c-9b53-062baf54e311",
   "metadata": {},
   "source": [
    "## Install Kaggle so as to be able to gain access to set & create API key_ ###"
   ]
  },
  {
   "cell_type": "code",
   "execution_count": 1,
   "id": "2a5951d2-e637-4b40-804f-45af4c81eb47",
   "metadata": {},
   "outputs": [
    {
     "name": "stdout",
     "output_type": "stream",
     "text": [
      "Requirement already satisfied: kaggle in c:\\users\\f8871503\\programdata\\local\\anaconda3\\lib\\site-packages (1.6.17)Note: you may need to restart the kernel to use updated packages.\n",
      "\n",
      "Requirement already satisfied: six>=1.10 in c:\\users\\f8871503\\programdata\\local\\anaconda3\\lib\\site-packages (from kaggle) (1.16.0)\n",
      "Requirement already satisfied: certifi>=2023.7.22 in c:\\users\\f8871503\\programdata\\local\\anaconda3\\lib\\site-packages (from kaggle) (2024.7.4)\n",
      "Requirement already satisfied: python-dateutil in c:\\users\\f8871503\\programdata\\local\\anaconda3\\lib\\site-packages (from kaggle) (2.8.2)\n",
      "Requirement already satisfied: requests in c:\\users\\f8871503\\programdata\\local\\anaconda3\\lib\\site-packages (from kaggle) (2.31.0)\n",
      "Requirement already satisfied: tqdm in c:\\users\\f8871503\\programdata\\local\\anaconda3\\lib\\site-packages (from kaggle) (4.65.0)\n",
      "Requirement already satisfied: python-slugify in c:\\users\\f8871503\\programdata\\local\\anaconda3\\lib\\site-packages (from kaggle) (5.0.2)\n",
      "Requirement already satisfied: urllib3 in c:\\users\\f8871503\\programdata\\local\\anaconda3\\lib\\site-packages (from kaggle) (2.0.7)\n",
      "Requirement already satisfied: bleach in c:\\users\\f8871503\\programdata\\local\\anaconda3\\lib\\site-packages (from kaggle) (4.1.0)\n",
      "Requirement already satisfied: packaging in c:\\users\\f8871503\\programdata\\local\\anaconda3\\lib\\site-packages (from bleach->kaggle) (23.1)\n",
      "Requirement already satisfied: webencodings in c:\\users\\f8871503\\programdata\\local\\anaconda3\\lib\\site-packages (from bleach->kaggle) (0.5.1)\n",
      "Requirement already satisfied: text-unidecode>=1.3 in c:\\users\\f8871503\\programdata\\local\\anaconda3\\lib\\site-packages (from python-slugify->kaggle) (1.3)\n",
      "Requirement already satisfied: charset-normalizer<4,>=2 in c:\\users\\f8871503\\programdata\\local\\anaconda3\\lib\\site-packages (from requests->kaggle) (2.0.4)\n",
      "Requirement already satisfied: idna<4,>=2.5 in c:\\users\\f8871503\\programdata\\local\\anaconda3\\lib\\site-packages (from requests->kaggle) (3.4)\n",
      "Requirement already satisfied: colorama in c:\\users\\f8871503\\programdata\\local\\anaconda3\\lib\\site-packages (from tqdm->kaggle) (0.4.6)\n"
     ]
    }
   ],
   "source": [
    "pip install kaggle"
   ]
  },
  {
   "cell_type": "raw",
   "id": "be1656cb-d123-4033-a7d9-6a3105b8b381",
   "metadata": {},
   "source": [
    "********************************************************************************************************************************************************"
   ]
  },
  {
   "cell_type": "raw",
   "id": "9ca9fe7b-d690-43cc-8e4f-efa1de5dbed0",
   "metadata": {},
   "source": [
    "## Home directory, create .kaggle directory & correct set permissions_ ###"
   ]
  },
  {
   "cell_type": "code",
   "execution_count": 2,
   "id": "75fa5a8e-46d8-4cfc-a0af-2ee19447ab67",
   "metadata": {},
   "outputs": [],
   "source": [
    "import os\n",
    "import shutil\n",
    "\n",
    "home = os.path.expanduser(\"~\")  # Get home directory\n",
    "kaggle_dir = os.path.join(home, \".kaggle\")\n",
    "\n",
    "os.makedirs(kaggle_dir, exist_ok=True)  # Create .kaggle directory if not exists\n",
    "shutil.move(\"kaggle.json\", os.path.join(kaggle_dir, \"kaggle.json\"))\n",
    "\n",
    "os.chmod(os.path.join(kaggle_dir, \"kaggle.json\"), 600)  # Set correct permissions"
   ]
  },
  {
   "cell_type": "raw",
   "id": "b3eeb474-5e8d-44e2-8bb0-aa0dda2cb91a",
   "metadata": {},
   "source": [
    "********************************************************************************************************************************************************"
   ]
  },
  {
   "cell_type": "raw",
   "id": "e58f847c-7a60-4185-ab23-9a70d0503704",
   "metadata": {},
   "source": [
    "## Lists all files in the current directory_ ###"
   ]
  },
  {
   "cell_type": "code",
   "execution_count": 1,
   "id": "66c6fc68-dc19-495f-96e7-c70309a714f5",
   "metadata": {},
   "outputs": [
    {
     "name": "stdout",
     "output_type": "stream",
     "text": [
      "['.ipynb_checkpoints', 'Classification _Netflix Movies & TV Shows_.ipynb', 'Classification _Nextflix Movies & TV Shows.zip']\n"
     ]
    }
   ],
   "source": [
    "import os\n",
    "\n",
    "print(os.listdir())  # Lists all files in the current directory"
   ]
  },
  {
   "cell_type": "raw",
   "id": "05d5c9cf-3834-4d3f-bded-0d98be2ef4f9",
   "metadata": {},
   "source": [
    "********************************************************************************************************************************************************"
   ]
  },
  {
   "cell_type": "raw",
   "id": "de8cc0c1-2005-488a-9065-30651b322fc9",
   "metadata": {},
   "source": [
    "## Extract to a new folder & List extracted files_ ###"
   ]
  },
  {
   "cell_type": "code",
   "execution_count": 5,
   "id": "cec07ca6-38db-4063-bfb0-2a579ba0d7af",
   "metadata": {},
   "outputs": [],
   "source": [
    "import zipfile\n",
    "\n",
    "with zipfile.ZipFile(\"Classification _Nextflix Movies & TV Shows.zip\", \"r\") as zip_ref:\n",
    "    zip_ref.extractall(\"netflix_dataset\")  # Extract to a new folder"
   ]
  },
  {
   "cell_type": "code",
   "execution_count": 6,
   "id": "4311b6bf-351b-4451-8918-5d26ce1750b0",
   "metadata": {},
   "outputs": [
    {
     "name": "stdout",
     "output_type": "stream",
     "text": [
      "['netflix_titles.csv']\n"
     ]
    }
   ],
   "source": [
    "print(os.listdir(\"netflix_dataset\"))  # Lists extracted files"
   ]
  },
  {
   "cell_type": "raw",
   "id": "f7e013a1-f258-439a-b250-5c9029a31580",
   "metadata": {},
   "source": [
    "********************************************************************************************************************************************************"
   ]
  },
  {
   "cell_type": "markdown",
   "id": "6f81c839-409c-4a36-b5b3-ee7928f518cf",
   "metadata": {},
   "source": [
    "### 2. Exploratory Data Analysis [EDA]:"
   ]
  },
  {
   "cell_type": "markdown",
   "id": "95d64731-dc57-4e03-8f49-7fad8fb1ec0c",
   "metadata": {},
   "source": [
    "##### a) Data Understanding_"
   ]
  },
  {
   "cell_type": "raw",
   "id": "5767caa1-f280-42f6-a58c-d4dc0c2b7182",
   "metadata": {},
   "source": [
    "## Data loading & Overview of the set_ ##"
   ]
  },
  {
   "cell_type": "code",
   "execution_count": 2,
   "id": "2756fee8-c62c-41d9-8469-504848b07a8d",
   "metadata": {
    "scrolled": true
   },
   "outputs": [
    {
     "data": {
      "text/html": [
       "<div>\n",
       "<style scoped>\n",
       "    .dataframe tbody tr th:only-of-type {\n",
       "        vertical-align: middle;\n",
       "    }\n",
       "\n",
       "    .dataframe tbody tr th {\n",
       "        vertical-align: top;\n",
       "    }\n",
       "\n",
       "    .dataframe thead th {\n",
       "        text-align: right;\n",
       "    }\n",
       "</style>\n",
       "<table border=\"1\" class=\"dataframe\">\n",
       "  <thead>\n",
       "    <tr style=\"text-align: right;\">\n",
       "      <th></th>\n",
       "      <th>show_id</th>\n",
       "      <th>type</th>\n",
       "      <th>title</th>\n",
       "      <th>director</th>\n",
       "      <th>cast</th>\n",
       "      <th>country</th>\n",
       "      <th>date_added</th>\n",
       "      <th>release_year</th>\n",
       "      <th>rating</th>\n",
       "      <th>duration</th>\n",
       "      <th>listed_in</th>\n",
       "      <th>description</th>\n",
       "    </tr>\n",
       "  </thead>\n",
       "  <tbody>\n",
       "    <tr>\n",
       "      <th>0</th>\n",
       "      <td>s1</td>\n",
       "      <td>Movie</td>\n",
       "      <td>Dick Johnson Is Dead</td>\n",
       "      <td>Kirsten Johnson</td>\n",
       "      <td>NaN</td>\n",
       "      <td>United States</td>\n",
       "      <td>September 25, 2021</td>\n",
       "      <td>2020</td>\n",
       "      <td>PG-13</td>\n",
       "      <td>90 min</td>\n",
       "      <td>Documentaries</td>\n",
       "      <td>As her father nears the end of his life, filmm...</td>\n",
       "    </tr>\n",
       "    <tr>\n",
       "      <th>1</th>\n",
       "      <td>s2</td>\n",
       "      <td>TV Show</td>\n",
       "      <td>Blood &amp; Water</td>\n",
       "      <td>NaN</td>\n",
       "      <td>Ama Qamata, Khosi Ngema, Gail Mabalane, Thaban...</td>\n",
       "      <td>South Africa</td>\n",
       "      <td>September 24, 2021</td>\n",
       "      <td>2021</td>\n",
       "      <td>TV-MA</td>\n",
       "      <td>2 Seasons</td>\n",
       "      <td>International TV Shows, TV Dramas, TV Mysteries</td>\n",
       "      <td>After crossing paths at a party, a Cape Town t...</td>\n",
       "    </tr>\n",
       "    <tr>\n",
       "      <th>2</th>\n",
       "      <td>s3</td>\n",
       "      <td>TV Show</td>\n",
       "      <td>Ganglands</td>\n",
       "      <td>Julien Leclercq</td>\n",
       "      <td>Sami Bouajila, Tracy Gotoas, Samuel Jouy, Nabi...</td>\n",
       "      <td>NaN</td>\n",
       "      <td>September 24, 2021</td>\n",
       "      <td>2021</td>\n",
       "      <td>TV-MA</td>\n",
       "      <td>1 Season</td>\n",
       "      <td>Crime TV Shows, International TV Shows, TV Act...</td>\n",
       "      <td>To protect his family from a powerful drug lor...</td>\n",
       "    </tr>\n",
       "    <tr>\n",
       "      <th>3</th>\n",
       "      <td>s4</td>\n",
       "      <td>TV Show</td>\n",
       "      <td>Jailbirds New Orleans</td>\n",
       "      <td>NaN</td>\n",
       "      <td>NaN</td>\n",
       "      <td>NaN</td>\n",
       "      <td>September 24, 2021</td>\n",
       "      <td>2021</td>\n",
       "      <td>TV-MA</td>\n",
       "      <td>1 Season</td>\n",
       "      <td>Docuseries, Reality TV</td>\n",
       "      <td>Feuds, flirtations and toilet talk go down amo...</td>\n",
       "    </tr>\n",
       "    <tr>\n",
       "      <th>4</th>\n",
       "      <td>s5</td>\n",
       "      <td>TV Show</td>\n",
       "      <td>Kota Factory</td>\n",
       "      <td>NaN</td>\n",
       "      <td>Mayur More, Jitendra Kumar, Ranjan Raj, Alam K...</td>\n",
       "      <td>India</td>\n",
       "      <td>September 24, 2021</td>\n",
       "      <td>2021</td>\n",
       "      <td>TV-MA</td>\n",
       "      <td>2 Seasons</td>\n",
       "      <td>International TV Shows, Romantic TV Shows, TV ...</td>\n",
       "      <td>In a city of coaching centers known to train I...</td>\n",
       "    </tr>\n",
       "  </tbody>\n",
       "</table>\n",
       "</div>"
      ],
      "text/plain": [
       "  show_id     type                  title         director  \\\n",
       "0      s1    Movie   Dick Johnson Is Dead  Kirsten Johnson   \n",
       "1      s2  TV Show          Blood & Water              NaN   \n",
       "2      s3  TV Show              Ganglands  Julien Leclercq   \n",
       "3      s4  TV Show  Jailbirds New Orleans              NaN   \n",
       "4      s5  TV Show           Kota Factory              NaN   \n",
       "\n",
       "                                                cast        country  \\\n",
       "0                                                NaN  United States   \n",
       "1  Ama Qamata, Khosi Ngema, Gail Mabalane, Thaban...   South Africa   \n",
       "2  Sami Bouajila, Tracy Gotoas, Samuel Jouy, Nabi...            NaN   \n",
       "3                                                NaN            NaN   \n",
       "4  Mayur More, Jitendra Kumar, Ranjan Raj, Alam K...          India   \n",
       "\n",
       "           date_added  release_year rating   duration  \\\n",
       "0  September 25, 2021          2020  PG-13     90 min   \n",
       "1  September 24, 2021          2021  TV-MA  2 Seasons   \n",
       "2  September 24, 2021          2021  TV-MA   1 Season   \n",
       "3  September 24, 2021          2021  TV-MA   1 Season   \n",
       "4  September 24, 2021          2021  TV-MA  2 Seasons   \n",
       "\n",
       "                                           listed_in  \\\n",
       "0                                      Documentaries   \n",
       "1    International TV Shows, TV Dramas, TV Mysteries   \n",
       "2  Crime TV Shows, International TV Shows, TV Act...   \n",
       "3                             Docuseries, Reality TV   \n",
       "4  International TV Shows, Romantic TV Shows, TV ...   \n",
       "\n",
       "                                         description  \n",
       "0  As her father nears the end of his life, filmm...  \n",
       "1  After crossing paths at a party, a Cape Town t...  \n",
       "2  To protect his family from a powerful drug lor...  \n",
       "3  Feuds, flirtations and toilet talk go down amo...  \n",
       "4  In a city of coaching centers known to train I...  "
      ]
     },
     "execution_count": 2,
     "metadata": {},
     "output_type": "execute_result"
    }
   ],
   "source": [
    "import pandas as pd\n",
    "\n",
    "df = pd.read_csv(\"netflix_dataset/netflix_titles.csv\")  # Update with the actual filename\n",
    "df.head()  # Display the first 5 rows"
   ]
  },
  {
   "cell_type": "code",
   "execution_count": 3,
   "id": "c6a66fe6-6225-4011-bf6c-2c043567773a",
   "metadata": {
    "scrolled": true
   },
   "outputs": [
    {
     "name": "stdout",
     "output_type": "stream",
     "text": [
      "<class 'pandas.core.frame.DataFrame'>\n",
      "RangeIndex: 8807 entries, 0 to 8806\n",
      "Data columns (total 12 columns):\n",
      " #   Column        Non-Null Count  Dtype \n",
      "---  ------        --------------  ----- \n",
      " 0   show_id       8807 non-null   object\n",
      " 1   type          8807 non-null   object\n",
      " 2   title         8807 non-null   object\n",
      " 3   director      6173 non-null   object\n",
      " 4   cast          7982 non-null   object\n",
      " 5   country       7976 non-null   object\n",
      " 6   date_added    8797 non-null   object\n",
      " 7   release_year  8807 non-null   int64 \n",
      " 8   rating        8803 non-null   object\n",
      " 9   duration      8804 non-null   object\n",
      " 10  listed_in     8807 non-null   object\n",
      " 11  description   8807 non-null   object\n",
      "dtypes: int64(1), object(11)\n",
      "memory usage: 825.8+ KB\n"
     ]
    }
   ],
   "source": [
    "df.info() # Displays set features / dtypes"
   ]
  },
  {
   "cell_type": "code",
   "execution_count": 4,
   "id": "9325b797-7008-4ba6-9ed3-9e596fbb4026",
   "metadata": {},
   "outputs": [
    {
     "data": {
      "text/html": [
       "<div>\n",
       "<style scoped>\n",
       "    .dataframe tbody tr th:only-of-type {\n",
       "        vertical-align: middle;\n",
       "    }\n",
       "\n",
       "    .dataframe tbody tr th {\n",
       "        vertical-align: top;\n",
       "    }\n",
       "\n",
       "    .dataframe thead th {\n",
       "        text-align: right;\n",
       "    }\n",
       "</style>\n",
       "<table border=\"1\" class=\"dataframe\">\n",
       "  <thead>\n",
       "    <tr style=\"text-align: right;\">\n",
       "      <th></th>\n",
       "      <th>release_year</th>\n",
       "    </tr>\n",
       "  </thead>\n",
       "  <tbody>\n",
       "    <tr>\n",
       "      <th>count</th>\n",
       "      <td>8807.000000</td>\n",
       "    </tr>\n",
       "    <tr>\n",
       "      <th>mean</th>\n",
       "      <td>2014.180198</td>\n",
       "    </tr>\n",
       "    <tr>\n",
       "      <th>std</th>\n",
       "      <td>8.819312</td>\n",
       "    </tr>\n",
       "    <tr>\n",
       "      <th>min</th>\n",
       "      <td>1925.000000</td>\n",
       "    </tr>\n",
       "    <tr>\n",
       "      <th>25%</th>\n",
       "      <td>2013.000000</td>\n",
       "    </tr>\n",
       "    <tr>\n",
       "      <th>50%</th>\n",
       "      <td>2017.000000</td>\n",
       "    </tr>\n",
       "    <tr>\n",
       "      <th>75%</th>\n",
       "      <td>2019.000000</td>\n",
       "    </tr>\n",
       "    <tr>\n",
       "      <th>max</th>\n",
       "      <td>2021.000000</td>\n",
       "    </tr>\n",
       "  </tbody>\n",
       "</table>\n",
       "</div>"
      ],
      "text/plain": [
       "       release_year\n",
       "count   8807.000000\n",
       "mean    2014.180198\n",
       "std        8.819312\n",
       "min     1925.000000\n",
       "25%     2013.000000\n",
       "50%     2017.000000\n",
       "75%     2019.000000\n",
       "max     2021.000000"
      ]
     },
     "execution_count": 4,
     "metadata": {},
     "output_type": "execute_result"
    }
   ],
   "source": [
    "df.describe() # Displays Summary Stats"
   ]
  },
  {
   "cell_type": "markdown",
   "id": "57457aba-a5ec-4f02-a637-84b5f500b04d",
   "metadata": {},
   "source": [
    " ##### b) Data Cleaning & Preprocessing_"
   ]
  },
  {
   "cell_type": "raw",
   "id": "e07eba98-b305-4355-b84b-052cd29135c2",
   "metadata": {},
   "source": [
    "## Let's add the necessary imports for Machine Learning [ML] ##"
   ]
  },
  {
   "cell_type": "code",
   "execution_count": 9,
   "id": "3dc8b65f-c8b0-4f32-90f2-b911c7e684ef",
   "metadata": {},
   "outputs": [],
   "source": [
    "import pandas as pd\n",
    "import numpy as np\n",
    "import matplotlib.pyplot as plt\n",
    "import seaborn as sns\n",
    "import nltk\n",
    "from nltk.corpus import stopwords\n",
    "from sklearn.preprocessing import LabelEncoder\n",
    "from sklearn.feature_extraction.text import TfidfVectorizer\n",
    "from sklearn.model_selection import train_test_split\n",
    "from sklearn.ensemble import RandomForestClassifier\n",
    "from sklearn.svm import SVC\n",
    "from sklearn.metrics import accuracy_score, classification_report, confusion_matrix"
   ]
  },
  {
   "cell_type": "code",
   "execution_count": 6,
   "id": "9db05e75-69fe-418b-ae87-8462bce80ea8",
   "metadata": {
    "scrolled": true
   },
   "outputs": [
    {
     "data": {
      "text/plain": [
       "show_id            0\n",
       "type               0\n",
       "title              0\n",
       "director        2634\n",
       "cast             825\n",
       "country            0\n",
       "date_added        10\n",
       "release_year       0\n",
       "rating             0\n",
       "duration           3\n",
       "listed_in          0\n",
       "description        0\n",
       "dtype: int64"
      ]
     },
     "metadata": {},
     "output_type": "display_data"
    },
    {
     "data": {
      "text/html": [
       "<div>\n",
       "<style scoped>\n",
       "    .dataframe tbody tr th:only-of-type {\n",
       "        vertical-align: middle;\n",
       "    }\n",
       "\n",
       "    .dataframe tbody tr th {\n",
       "        vertical-align: top;\n",
       "    }\n",
       "\n",
       "    .dataframe thead th {\n",
       "        text-align: right;\n",
       "    }\n",
       "</style>\n",
       "<table border=\"1\" class=\"dataframe\">\n",
       "  <thead>\n",
       "    <tr style=\"text-align: right;\">\n",
       "      <th></th>\n",
       "      <th>show_id</th>\n",
       "      <th>type</th>\n",
       "      <th>title</th>\n",
       "      <th>director</th>\n",
       "      <th>cast</th>\n",
       "      <th>country</th>\n",
       "      <th>date_added</th>\n",
       "      <th>release_year</th>\n",
       "      <th>rating</th>\n",
       "      <th>duration</th>\n",
       "      <th>listed_in</th>\n",
       "      <th>description</th>\n",
       "      <th>year_added</th>\n",
       "    </tr>\n",
       "  </thead>\n",
       "  <tbody>\n",
       "    <tr>\n",
       "      <th>0</th>\n",
       "      <td>s1</td>\n",
       "      <td>Movie</td>\n",
       "      <td>Dick Johnson Is Dead</td>\n",
       "      <td>Kirsten Johnson</td>\n",
       "      <td>NaN</td>\n",
       "      <td>United States</td>\n",
       "      <td>2021-09-25</td>\n",
       "      <td>2020</td>\n",
       "      <td>PG-13</td>\n",
       "      <td>90.0</td>\n",
       "      <td>Documentaries</td>\n",
       "      <td>As her father nears the end of his life, filmm...</td>\n",
       "      <td>2021.0</td>\n",
       "    </tr>\n",
       "    <tr>\n",
       "      <th>1</th>\n",
       "      <td>s2</td>\n",
       "      <td>TV Show</td>\n",
       "      <td>Blood &amp; Water</td>\n",
       "      <td>NaN</td>\n",
       "      <td>Ama Qamata, Khosi Ngema, Gail Mabalane, Thaban...</td>\n",
       "      <td>South Africa</td>\n",
       "      <td>2021-09-24</td>\n",
       "      <td>2021</td>\n",
       "      <td>TV-MA</td>\n",
       "      <td>2.0</td>\n",
       "      <td>International TV Shows, TV Dramas, TV Mysteries</td>\n",
       "      <td>After crossing paths at a party, a Cape Town t...</td>\n",
       "      <td>2021.0</td>\n",
       "    </tr>\n",
       "    <tr>\n",
       "      <th>2</th>\n",
       "      <td>s3</td>\n",
       "      <td>TV Show</td>\n",
       "      <td>Ganglands</td>\n",
       "      <td>Julien Leclercq</td>\n",
       "      <td>Sami Bouajila, Tracy Gotoas, Samuel Jouy, Nabi...</td>\n",
       "      <td>Unknown</td>\n",
       "      <td>2021-09-24</td>\n",
       "      <td>2021</td>\n",
       "      <td>TV-MA</td>\n",
       "      <td>1.0</td>\n",
       "      <td>Crime TV Shows, International TV Shows, TV Act...</td>\n",
       "      <td>To protect his family from a powerful drug lor...</td>\n",
       "      <td>2021.0</td>\n",
       "    </tr>\n",
       "    <tr>\n",
       "      <th>3</th>\n",
       "      <td>s4</td>\n",
       "      <td>TV Show</td>\n",
       "      <td>Jailbirds New Orleans</td>\n",
       "      <td>NaN</td>\n",
       "      <td>NaN</td>\n",
       "      <td>Unknown</td>\n",
       "      <td>2021-09-24</td>\n",
       "      <td>2021</td>\n",
       "      <td>TV-MA</td>\n",
       "      <td>1.0</td>\n",
       "      <td>Docuseries, Reality TV</td>\n",
       "      <td>Feuds, flirtations and toilet talk go down amo...</td>\n",
       "      <td>2021.0</td>\n",
       "    </tr>\n",
       "    <tr>\n",
       "      <th>4</th>\n",
       "      <td>s5</td>\n",
       "      <td>TV Show</td>\n",
       "      <td>Kota Factory</td>\n",
       "      <td>NaN</td>\n",
       "      <td>Mayur More, Jitendra Kumar, Ranjan Raj, Alam K...</td>\n",
       "      <td>India</td>\n",
       "      <td>2021-09-24</td>\n",
       "      <td>2021</td>\n",
       "      <td>TV-MA</td>\n",
       "      <td>2.0</td>\n",
       "      <td>International TV Shows, Romantic TV Shows, TV ...</td>\n",
       "      <td>In a city of coaching centers known to train I...</td>\n",
       "      <td>2021.0</td>\n",
       "    </tr>\n",
       "  </tbody>\n",
       "</table>\n",
       "</div>"
      ],
      "text/plain": [
       "  show_id     type                  title         director  \\\n",
       "0      s1    Movie   Dick Johnson Is Dead  Kirsten Johnson   \n",
       "1      s2  TV Show          Blood & Water              NaN   \n",
       "2      s3  TV Show              Ganglands  Julien Leclercq   \n",
       "3      s4  TV Show  Jailbirds New Orleans              NaN   \n",
       "4      s5  TV Show           Kota Factory              NaN   \n",
       "\n",
       "                                                cast        country  \\\n",
       "0                                                NaN  United States   \n",
       "1  Ama Qamata, Khosi Ngema, Gail Mabalane, Thaban...   South Africa   \n",
       "2  Sami Bouajila, Tracy Gotoas, Samuel Jouy, Nabi...        Unknown   \n",
       "3                                                NaN        Unknown   \n",
       "4  Mayur More, Jitendra Kumar, Ranjan Raj, Alam K...          India   \n",
       "\n",
       "  date_added  release_year rating  duration  \\\n",
       "0 2021-09-25          2020  PG-13      90.0   \n",
       "1 2021-09-24          2021  TV-MA       2.0   \n",
       "2 2021-09-24          2021  TV-MA       1.0   \n",
       "3 2021-09-24          2021  TV-MA       1.0   \n",
       "4 2021-09-24          2021  TV-MA       2.0   \n",
       "\n",
       "                                           listed_in  \\\n",
       "0                                      Documentaries   \n",
       "1    International TV Shows, TV Dramas, TV Mysteries   \n",
       "2  Crime TV Shows, International TV Shows, TV Act...   \n",
       "3                             Docuseries, Reality TV   \n",
       "4  International TV Shows, Romantic TV Shows, TV ...   \n",
       "\n",
       "                                         description  year_added  \n",
       "0  As her father nears the end of his life, filmm...      2021.0  \n",
       "1  After crossing paths at a party, a Cape Town t...      2021.0  \n",
       "2  To protect his family from a powerful drug lor...      2021.0  \n",
       "3  Feuds, flirtations and toilet talk go down amo...      2021.0  \n",
       "4  In a city of coaching centers known to train I...      2021.0  "
      ]
     },
     "metadata": {},
     "output_type": "display_data"
    }
   ],
   "source": [
    "# Handling missing values\n",
    "missing_values = df.isnull().sum()\n",
    "display(missing_values)\n",
    "\n",
    "# Fill missing values in 'country' with 'Unknown'\n",
    "df['country'].fillna('Unknown', inplace=True)\n",
    "\n",
    "# Fill missing values in 'rating' with the most common rating\n",
    "df['rating'].fillna(df['rating'].mode()[0], inplace=True)\n",
    "\n",
    "df['date_added'] = df['date_added'].astype(str).str.strip()  # Remove leading/trailing spaces\n",
    "df['date_added'] = pd.to_datetime(df['date_added'], format='%B %d, %Y', errors='coerce')\n",
    "\n",
    "# Extract year, month, and day from 'date_added'\n",
    "df['year_added'] = df['date_added'].dt.year\n",
    "\n",
    "# Process 'duration' column\n",
    "# Extract numeric values (minutes for movies, seasons for TV shows)\n",
    "df['duration'] = df['duration'].str.extract(r'(\\d+)')\n",
    "df['duration'] = pd.to_numeric(df['duration'])\n",
    "\n",
    "display(df.head())"
   ]
  },
  {
   "cell_type": "raw",
   "id": "44fbc177-d340-4ebc-bc8f-a65b62c6ab8a",
   "metadata": {},
   "source": [
    "Next, will perform the following necessary steps for building my classification model:\n",
    "\n",
    "1. Encoding Categorical Variables: \n",
    "-Uses LabelEncoder to convert categorical values (type and rating) into numerical format, making them suitable for modeling.\n",
    "\n",
    "2. Text Preprocessing (description column):\n",
    "-Converts text to lowercase for uniformity.\n",
    "-Removes non-alphabetical characters (e.g., punctuation, numbers).\n",
    "-Eliminates stopwords (common words like \"the\", \"is\") to focus on meaningful words.\n",
    "\n",
    "3. TF-IDF Vectorization:\n",
    "\n",
    "-Converts cleaned text into numerical features using Term Frequency-Inverse Document Frequency (TF-IDF).\n",
    "-Captures the importance of words while reducing the impact of commonly occurring words."
   ]
  },
  {
   "cell_type": "code",
   "execution_count": 10,
   "id": "891cb969-3e2f-44fa-94ab-c1f8d8e52112",
   "metadata": {
    "scrolled": true
   },
   "outputs": [
    {
     "name": "stderr",
     "output_type": "stream",
     "text": [
      "[nltk_data] Downloading package stopwords to\n",
      "[nltk_data]     C:\\Users\\F8871503\\AppData\\Roaming\\nltk_data...\n",
      "[nltk_data]   Unzipping corpora\\stopwords.zip.\n"
     ]
    },
    {
     "data": {
      "text/html": [
       "<div>\n",
       "<style scoped>\n",
       "    .dataframe tbody tr th:only-of-type {\n",
       "        vertical-align: middle;\n",
       "    }\n",
       "\n",
       "    .dataframe tbody tr th {\n",
       "        vertical-align: top;\n",
       "    }\n",
       "\n",
       "    .dataframe thead th {\n",
       "        text-align: right;\n",
       "    }\n",
       "</style>\n",
       "<table border=\"1\" class=\"dataframe\">\n",
       "  <thead>\n",
       "    <tr style=\"text-align: right;\">\n",
       "      <th></th>\n",
       "      <th>show_id</th>\n",
       "      <th>type</th>\n",
       "      <th>title</th>\n",
       "      <th>director</th>\n",
       "      <th>cast</th>\n",
       "      <th>country</th>\n",
       "      <th>date_added</th>\n",
       "      <th>release_year</th>\n",
       "      <th>rating</th>\n",
       "      <th>duration</th>\n",
       "      <th>listed_in</th>\n",
       "      <th>description</th>\n",
       "      <th>year_added</th>\n",
       "      <th>type_encoded</th>\n",
       "      <th>rating_encoded</th>\n",
       "      <th>clean_description</th>\n",
       "    </tr>\n",
       "  </thead>\n",
       "  <tbody>\n",
       "    <tr>\n",
       "      <th>0</th>\n",
       "      <td>s1</td>\n",
       "      <td>Movie</td>\n",
       "      <td>Dick Johnson Is Dead</td>\n",
       "      <td>Kirsten Johnson</td>\n",
       "      <td>NaN</td>\n",
       "      <td>United States</td>\n",
       "      <td>2021-09-25</td>\n",
       "      <td>2020</td>\n",
       "      <td>PG-13</td>\n",
       "      <td>90.0</td>\n",
       "      <td>Documentaries</td>\n",
       "      <td>As her father nears the end of his life, filmm...</td>\n",
       "      <td>2021.0</td>\n",
       "      <td>0</td>\n",
       "      <td>7</td>\n",
       "      <td>father nears end life filmmaker kirsten johnso...</td>\n",
       "    </tr>\n",
       "    <tr>\n",
       "      <th>1</th>\n",
       "      <td>s2</td>\n",
       "      <td>TV Show</td>\n",
       "      <td>Blood &amp; Water</td>\n",
       "      <td>NaN</td>\n",
       "      <td>Ama Qamata, Khosi Ngema, Gail Mabalane, Thaban...</td>\n",
       "      <td>South Africa</td>\n",
       "      <td>2021-09-24</td>\n",
       "      <td>2021</td>\n",
       "      <td>TV-MA</td>\n",
       "      <td>2.0</td>\n",
       "      <td>International TV Shows, TV Dramas, TV Mysteries</td>\n",
       "      <td>After crossing paths at a party, a Cape Town t...</td>\n",
       "      <td>2021.0</td>\n",
       "      <td>1</td>\n",
       "      <td>11</td>\n",
       "      <td>crossing paths party cape town teen sets prove...</td>\n",
       "    </tr>\n",
       "    <tr>\n",
       "      <th>2</th>\n",
       "      <td>s3</td>\n",
       "      <td>TV Show</td>\n",
       "      <td>Ganglands</td>\n",
       "      <td>Julien Leclercq</td>\n",
       "      <td>Sami Bouajila, Tracy Gotoas, Samuel Jouy, Nabi...</td>\n",
       "      <td>Unknown</td>\n",
       "      <td>2021-09-24</td>\n",
       "      <td>2021</td>\n",
       "      <td>TV-MA</td>\n",
       "      <td>1.0</td>\n",
       "      <td>Crime TV Shows, International TV Shows, TV Act...</td>\n",
       "      <td>To protect his family from a powerful drug lor...</td>\n",
       "      <td>2021.0</td>\n",
       "      <td>1</td>\n",
       "      <td>11</td>\n",
       "      <td>protect family powerful drug lord skilled thie...</td>\n",
       "    </tr>\n",
       "    <tr>\n",
       "      <th>3</th>\n",
       "      <td>s4</td>\n",
       "      <td>TV Show</td>\n",
       "      <td>Jailbirds New Orleans</td>\n",
       "      <td>NaN</td>\n",
       "      <td>NaN</td>\n",
       "      <td>Unknown</td>\n",
       "      <td>2021-09-24</td>\n",
       "      <td>2021</td>\n",
       "      <td>TV-MA</td>\n",
       "      <td>1.0</td>\n",
       "      <td>Docuseries, Reality TV</td>\n",
       "      <td>Feuds, flirtations and toilet talk go down amo...</td>\n",
       "      <td>2021.0</td>\n",
       "      <td>1</td>\n",
       "      <td>11</td>\n",
       "      <td>feuds flirtations toilet talk go among incarce...</td>\n",
       "    </tr>\n",
       "    <tr>\n",
       "      <th>4</th>\n",
       "      <td>s5</td>\n",
       "      <td>TV Show</td>\n",
       "      <td>Kota Factory</td>\n",
       "      <td>NaN</td>\n",
       "      <td>Mayur More, Jitendra Kumar, Ranjan Raj, Alam K...</td>\n",
       "      <td>India</td>\n",
       "      <td>2021-09-24</td>\n",
       "      <td>2021</td>\n",
       "      <td>TV-MA</td>\n",
       "      <td>2.0</td>\n",
       "      <td>International TV Shows, Romantic TV Shows, TV ...</td>\n",
       "      <td>In a city of coaching centers known to train I...</td>\n",
       "      <td>2021.0</td>\n",
       "      <td>1</td>\n",
       "      <td>11</td>\n",
       "      <td>city coaching centers known train india finest...</td>\n",
       "    </tr>\n",
       "  </tbody>\n",
       "</table>\n",
       "</div>"
      ],
      "text/plain": [
       "  show_id     type                  title         director  \\\n",
       "0      s1    Movie   Dick Johnson Is Dead  Kirsten Johnson   \n",
       "1      s2  TV Show          Blood & Water              NaN   \n",
       "2      s3  TV Show              Ganglands  Julien Leclercq   \n",
       "3      s4  TV Show  Jailbirds New Orleans              NaN   \n",
       "4      s5  TV Show           Kota Factory              NaN   \n",
       "\n",
       "                                                cast        country  \\\n",
       "0                                                NaN  United States   \n",
       "1  Ama Qamata, Khosi Ngema, Gail Mabalane, Thaban...   South Africa   \n",
       "2  Sami Bouajila, Tracy Gotoas, Samuel Jouy, Nabi...        Unknown   \n",
       "3                                                NaN        Unknown   \n",
       "4  Mayur More, Jitendra Kumar, Ranjan Raj, Alam K...          India   \n",
       "\n",
       "  date_added  release_year rating  duration  \\\n",
       "0 2021-09-25          2020  PG-13      90.0   \n",
       "1 2021-09-24          2021  TV-MA       2.0   \n",
       "2 2021-09-24          2021  TV-MA       1.0   \n",
       "3 2021-09-24          2021  TV-MA       1.0   \n",
       "4 2021-09-24          2021  TV-MA       2.0   \n",
       "\n",
       "                                           listed_in  \\\n",
       "0                                      Documentaries   \n",
       "1    International TV Shows, TV Dramas, TV Mysteries   \n",
       "2  Crime TV Shows, International TV Shows, TV Act...   \n",
       "3                             Docuseries, Reality TV   \n",
       "4  International TV Shows, Romantic TV Shows, TV ...   \n",
       "\n",
       "                                         description  year_added  \\\n",
       "0  As her father nears the end of his life, filmm...      2021.0   \n",
       "1  After crossing paths at a party, a Cape Town t...      2021.0   \n",
       "2  To protect his family from a powerful drug lor...      2021.0   \n",
       "3  Feuds, flirtations and toilet talk go down amo...      2021.0   \n",
       "4  In a city of coaching centers known to train I...      2021.0   \n",
       "\n",
       "   type_encoded  rating_encoded  \\\n",
       "0             0               7   \n",
       "1             1              11   \n",
       "2             1              11   \n",
       "3             1              11   \n",
       "4             1              11   \n",
       "\n",
       "                                   clean_description  \n",
       "0  father nears end life filmmaker kirsten johnso...  \n",
       "1  crossing paths party cape town teen sets prove...  \n",
       "2  protect family powerful drug lord skilled thie...  \n",
       "3  feuds flirtations toilet talk go among incarce...  \n",
       "4  city coaching centers known train india finest...  "
      ]
     },
     "metadata": {},
     "output_type": "display_data"
    }
   ],
   "source": [
    "from sklearn.preprocessing import LabelEncoder\n",
    "\n",
    "# Encode categorical variables\n",
    "label_encoder = LabelEncoder()\n",
    "df['type_encoded'] = label_encoder.fit_transform(df['type'])\n",
    "df['rating_encoded'] = label_encoder.fit_transform(df['rating'])\n",
    "\n",
    "# Text preprocessing for 'description'\n",
    "nltk.download('stopwords')\n",
    "stop_words = set(stopwords.words('english'))\n",
    "df['clean_description'] = df['description'].astype(str).str.lower()\n",
    "df['clean_description'] = df['clean_description'].str.replace('[^a-zA-Z]', ' ', regex=True)\n",
    "df['clean_description'] = df['clean_description'].apply(lambda x: ' '.join([word for word in x.split() if word not in stop_words]))\n",
    "\n",
    "# Convert text into numerical features using TF-IDF\n",
    "vectorizer = TfidfVectorizer(max_features=500)\n",
    "description_tfidf = vectorizer.fit_transform(df['clean_description']).toarray()\n",
    "\n",
    "# Display cleaned dataset\n",
    "display(df.head())"
   ]
  },
  {
   "cell_type": "raw",
   "id": "982b8b4e-e251-4e40-b0ca-9498b69e107a",
   "metadata": {},
   "source": [
    "** Why the above step so necessary? **\n",
    "\n",
    "-Encodes categorical data into a machine-readable format.\n",
    "-Cleans text data to improve NLP-based feature extraction.\n",
    "-Transforms text into numerical vectors for use in machine learning models.\n",
    "\n",
    "This step is crucial for classification tasks like predicting whether a title is a \"Movie\" or \"TV Show\" and determining the rating category. 🚀"
   ]
  },
  {
   "cell_type": "code",
   "execution_count": null,
   "id": "23392e80-29ef-4304-8e90-277c78978d8d",
   "metadata": {},
   "outputs": [],
   "source": [
    "--------------------------------------------------------------------------------------------------------------------------------------------------------"
   ]
  },
  {
   "cell_type": "markdown",
   "id": "d992997d-504e-431d-a6fc-0fa7b21e6016",
   "metadata": {},
   "source": [
    "##### c) Summary Statistics_"
   ]
  },
  {
   "cell_type": "raw",
   "id": "83882f65-6f3f-4faa-9fca-ad90eddcdb03",
   "metadata": {},
   "source": [
    "** Let's perform some \"General Summary\". ..**"
   ]
  },
  {
   "cell_type": "code",
   "execution_count": 11,
   "id": "a18bf2e3-cf08-4311-bd8f-3079e3f3b991",
   "metadata": {
    "scrolled": true
   },
   "outputs": [
    {
     "name": "stdout",
     "output_type": "stream",
     "text": [
      "\n",
      "General Summary:\n",
      "(8807, 16)\n",
      "                          date_added  release_year     duration   year_added  \\\n",
      "count                           8797   8807.000000  8804.000000  8797.000000   \n",
      "mean   2019-05-17 05:59:08.436967168   2014.180198    69.846888  2018.871888   \n",
      "min              2008-01-01 00:00:00   1925.000000     1.000000  2008.000000   \n",
      "25%              2018-04-06 00:00:00   2013.000000     2.000000  2018.000000   \n",
      "50%              2019-07-02 00:00:00   2017.000000    88.000000  2019.000000   \n",
      "75%              2020-08-19 00:00:00   2019.000000   106.000000  2020.000000   \n",
      "max              2021-09-25 00:00:00   2021.000000   312.000000  2021.000000   \n",
      "std                              NaN      8.819312    50.814828     1.574243   \n",
      "\n",
      "       type_encoded  rating_encoded  \n",
      "count   8807.000000     8807.000000  \n",
      "mean       0.303849       10.015215  \n",
      "min        0.000000        0.000000  \n",
      "25%        0.000000        9.000000  \n",
      "50%        0.000000       11.000000  \n",
      "75%        1.000000       11.000000  \n",
      "max        1.000000       16.000000  \n",
      "std        0.459944        1.957589  \n",
      "\n",
      "Type Distribution:\n",
      "type\n",
      "Movie      6131\n",
      "TV Show    2676\n",
      "Name: count, dtype: int64\n",
      "\n",
      "Rating Distribution:\n",
      "rating\n",
      "TV-MA       3211\n",
      "TV-14       2160\n",
      "TV-PG        863\n",
      "R            799\n",
      "PG-13        490\n",
      "TV-Y7        334\n",
      "TV-Y         307\n",
      "PG           287\n",
      "TV-G         220\n",
      "NR            80\n",
      "G             41\n",
      "TV-Y7-FV       6\n",
      "NC-17          3\n",
      "UR             3\n",
      "74 min         1\n",
      "84 min         1\n",
      "66 min         1\n",
      "Name: count, dtype: int64\n"
     ]
    }
   ],
   "source": [
    "print(\"\\nGeneral Summary:\")\n",
    "print(df.shape)\n",
    "print(df.describe())\n",
    "\n",
    "# Categorical value counts\n",
    "print(\"\\nType Distribution:\")\n",
    "print(df['type'].value_counts())\n",
    "print(\"\\nRating Distribution:\")\n",
    "print(df['rating'].value_counts())"
   ]
  },
  {
   "cell_type": "raw",
   "id": "c20bf2cc-03f5-47fb-aad2-a37d36f79f88",
   "metadata": {},
   "source": [
    "Key notes:\n",
    "\n",
    "1. Release years: the content spans from 1925-2021, with the majority of releases concentrated around 2014 to 2021.\n",
    "2. Duration: the avg_duration is ~70 min, with a wide range from 1 min to 312 min\n",
    "3. Content Addtn: most of it was added between 2018 & 2021, with the peak around mid-2019.\n",
    "4. Content type: Movies dominate the dataset, making up 6131 entries compared to 2676 tv shows.\n",
    "5. Ratings: the most common ratings are TV-MA(3211 entries) & TV-14(2160 entries), indicating a significant amount of mature & teen-oriented content.\n",
    "\n",
    "These insights suggest a focus on recent, diverse content with a strong presence of movies & mature-rated shows."
   ]
  },
  {
   "cell_type": "markdown",
   "id": "61e905fa-a571-4852-acf9-ef1155d3a535",
   "metadata": {},
   "source": [
    "** Next 3 plots, are \"Distribution Analysis\"_***"
   ]
  },
  {
   "cell_type": "code",
   "execution_count": 12,
   "id": "95f04321-1235-4626-a42e-ff583f216bc8",
   "metadata": {},
   "outputs": [
    {
     "name": "stderr",
     "output_type": "stream",
     "text": [
      "C:\\Users\\F8871503\\ProgramData\\Local\\anaconda3\\Lib\\site-packages\\seaborn\\_oldcore.py:1119: FutureWarning: use_inf_as_na option is deprecated and will be removed in a future version. Convert inf values to NaN before operating instead.\n",
      "  with pd.option_context('mode.use_inf_as_na', True):\n"
     ]
    },
    {
     "data": {
      "image/png": "[encoded data removed]",
      "text/plain": [
       "<Figure size 1200x500 with 1 Axes>"
      ]
     },
     "metadata": {},
     "output_type": "display_data"
    }
   ],
   "source": [
    "#1. Distribution Analysis\n",
    "\n",
    "plt.figure(figsize=(12, 5))\n",
    "sns.histplot(df['release_year'], bins=30, kde=True)\n",
    "plt.title(\"Distribution of Release Years\")\n",
    "plt.show()"
   ]
  },
  {
   "cell_type": "raw",
   "id": "172a14cc-d96b-48c0-ba78-bb9012fabac0",
   "metadata": {},
   "source": [
    "The plot shows the distribution of release years for content in the dataset:\n",
    "\n",
    "1. Peak Releases: the majority of content was released betweeen 2000 & 2020, with a significnt increase starting around 2010.\n",
    "2. Recent Focus: there is a sharp rise in content from the mid-2010s onwards, indicating a focus on more recent productions.\n",
    "3. Histotical Content: there is small amoount of content from earlier decades, starting from the 1940's.\n",
    "\n",
    "This suggests a strong preference for newer content, particularly from the last decade."
   ]
  },
  {
   "cell_type": "code",
   "execution_count": 13,
   "id": "12ab6790-4a90-40dd-9ab8-c0455e40417b",
   "metadata": {},
   "outputs": [
    {
     "data": {
      "image/png": "[encoded data removed]",
      "text/plain": [
       "<Figure size 800x400 with 1 Axes>"
      ]
     },
     "metadata": {},
     "output_type": "display_data"
    }
   ],
   "source": [
    "#2. Distribution Analysis\n",
    "\n",
    "plt.figure(figsize=(8, 4))\n",
    "sns.countplot(y=df['type'], order=df['type'].value_counts().index)\n",
    "plt.title(\"Movie vs. TV Show Count\")\n",
    "plt.show()"
   ]
  },
  {
   "cell_type": "raw",
   "id": "5ea91a66-cfc1-49f5-b04b-00b35009ebf1",
   "metadata": {},
   "source": [
    "The plot illustrates the distribution of content types in the dataset:\n",
    "\n",
    "1. Dominace of Movies: movies significantly outnumber tv shows, with ~6000 movies compared to around 2500 tv shows.\n",
    "2 .Content Preference: the dataset reflects a strong preference for movies over tv shows on the paltform.\n",
    "\n",
    "This indicates that movies are the primary type of content available in this dataset."
   ]
  },
  {
   "cell_type": "code",
   "execution_count": 14,
   "id": "c7fb7f8f-8901-4534-9833-b3272f279d7a",
   "metadata": {},
   "outputs": [
    {
     "data": {
      "image/png": "[encoded data removed]",
      "text/plain": [
       "<Figure size 1000x600 with 1 Axes>"
      ]
     },
     "metadata": {},
     "output_type": "display_data"
    }
   ],
   "source": [
    "#3. Distribution Analysis\n",
    "\n",
    "plt.figure(figsize=(10, 6))\n",
    "sns.countplot(y=df['rating'], order=df['rating'].value_counts().index)\n",
    "plt.title(\"Distribution of Content Ratings\")\n",
    "plt.show()"
   ]
  },
  {
   "cell_type": "raw",
   "id": "b451de51-4e1d-4d82-a08c-83a8c79d0e06",
   "metadata": {},
   "source": [
    "The plot shows the distribution of content ratings in the dataset:\n",
    "\n",
    "1. Top Ratings: the most common ratings are tv-ma (mature audience) & tv-14 (teens & above), indicating a significant amount of mature & teen-oriented content.\n",
    "2. Diverse Ratings: there is a wide range of ratings, including tv-pg, r, pg-13, & others, catering to different audience demographics.\n",
    "3. Less Common Ratings: ratings like g, tv-y7-fv, & nc-17 are less frequent, suggesting limited content for very young children / specific adult audiences.\n",
    "\n",
    "This indicates a focus on mature & teen audiences, with a variety of content for different age groups."
   ]
  },
  {
   "cell_type": "raw",
   "id": "794f3356-3a1b-4632-b66d-700ca40a2f6b",
   "metadata": {},
   "source": [
    "** Correlation plot_***"
   ]
  },
  {
   "cell_type": "code",
   "execution_count": 15,
   "id": "a9be1c12-7ae0-4bc6-a06e-45049a87538d",
   "metadata": {},
   "outputs": [
    {
     "data": {
      "image/png": "[encoded data removed]",
      "text/plain": [
       "<Figure size 800x600 with 2 Axes>"
      ]
     },
     "metadata": {},
     "output_type": "display_data"
    }
   ],
   "source": [
    "# Correlation Analysis\n",
    "plt.figure(figsize=(8, 6))\n",
    "sns.heatmap(df[['year_added', 'release_year', 'duration', 'type_encoded', 'rating_encoded']].corr(), annot=True, cmap='coolwarm')\n",
    "plt.title(\"Correlation Heatmap\")\n",
    "plt.show()"
   ]
  },
  {
   "cell_type": "raw",
   "id": "585b212b-138b-4b65-94d8-fd3c5d049431",
   "metadata": {},
   "source": [
    "The Heatmap reveals the following insights:\n",
    "\n",
    "1. Weak Correlations: most variables show weak correlations, with values close to zero, indicating minimal linear relationships.\n",
    "2. Strongest Correlation: the strongest positive correlation is between year_added & release_year (0.11), suggesting that newer content is more likely to be added recently.\n",
    "3. Negative Correlation: there is a slight negative correlation between duration & type_encoded (-0.063), hinting that movies (possibly encoded as 1) might have shorter durations compared to tv shows.\n",
    "\n",
    "Overall, the heatmap indicates limited linear relationships among the variables in the dataset."
   ]
  },
  {
   "cell_type": "markdown",
   "id": "bd597de1-7adb-4bb6-b10d-59c2749ed3e3",
   "metadata": {},
   "source": [
    "##### d) Visualizations_ \n"
   ]
  },
  {
   "cell_type": "raw",
   "id": "428ef401-a687-4134-80bf-004b32f14855",
   "metadata": {},
   "source": [
    "********************************************************************************************************************************************************"
   ]
  },
  {
   "cell_type": "markdown",
   "id": "8dc1d847-5db2-40b8-9343-6369c2b6eb6d",
   "metadata": {},
   "source": [
    "### 3. Feature Engineering:"
   ]
  },
  {
   "cell_type": "code",
   "execution_count": null,
   "id": "942754db-b22a-4fbb-99c2-de0634d1c587",
   "metadata": {},
   "outputs": [],
   "source": [
    "a) Handling Missing Values_\n",
    "\n",
    "# Handling missing values\n",
    "missing_values = df.isnull().sum()\n",
    "display(missing_values)\n",
    "\n",
    "# Fill missing values in 'country' with 'Unknown'\n",
    "df['country'].fillna('Unknown', inplace=True)\n",
    "\n",
    "# Fill missing values in 'rating' with the most common rating\n",
    "df['rating'].fillna(df['rating'].mode()[0], inplace=True)\n",
    "\n",
    "# Convert 'date_added' to datetime format\n",
    "df['date_added'] = pd.to_datetime(df['date_added'])\n",
    "\n",
    "# Extract year, month, and day from 'date_added'\n",
    "df['year_added'] = df['date_added'].dt.year\n",
    "\n",
    "# Process 'duration' column\n",
    "# Extract numeric values (minutes for movies, seasons for TV shows)\n",
    "df['duration'] = df['duration'].str.extract(r'(\\d+)')\n",
    "df['duration'] = pd.to_numeric(df['duration'])\n",
    "\n",
    "display(df.head())"
   ]
  },
  {
   "cell_type": "code",
   "execution_count": null,
   "id": "f1de3c95-8188-41c4-a0f2-c59d4efcbaf3",
   "metadata": {},
   "outputs": [],
   "source": [
    "b) Encoding Categorical Features_\n",
    "# Encode categorical variables\n",
    "label_encoder = LabelEncoder()\n",
    "df['type_encoded'] = label_encoder.fit_transform(df['type'])\n",
    "df['rating_encoded'] = label_encoder.fit_transform(df['rating'])\n",
    "\n",
    "# Text preprocessing for 'description'\n",
    "nltk.download('stopwords')\n",
    "stop_words = set(stopwords.words('english'))\n",
    "df['clean_description'] = df['description'].astype(str).str.lower()\n",
    "df['clean_description'] = df['clean_description'].str.replace('[^a-zA-Z]', ' ', regex=True)\n",
    "df['clean_description'] = df['clean_description'].apply(lambda x: ' '.join([word for word in x.split() if word not in stop_words]))\n",
    "\n",
    "# Convert text into numerical features using TF-IDF\n",
    "vectorizer = TfidfVectorizer(max_features=500)\n",
    "description_tfidf = vectorizer.fit_transform(df['clean_description']).toarray()\n",
    "\n",
    "# Display cleaned dataset\n",
    "display(df.head())"
   ]
  },
  {
   "cell_type": "code",
   "execution_count": null,
   "id": "5156c6ee-a7fc-422c-a2b9-472068802064",
   "metadata": {},
   "outputs": [],
   "source": [
    "c) Feature Selection_\n"
   ]
  },
  {
   "cell_type": "raw",
   "id": "edcb4615-6806-4236-ae2e-01f7ebde6628",
   "metadata": {},
   "source": [
    "********************************************************************************************************************************************************"
   ]
  },
  {
   "cell_type": "markdown",
   "id": "831bd69e-75ae-4eeb-809e-64f28f811f5b",
   "metadata": {},
   "source": [
    "### 4. "
   ]
  },
  {
   "cell_type": "code",
   "execution_count": null,
   "id": "2f641c42-1137-4196-bff9-3bbdafba88e3",
   "metadata": {},
   "outputs": [],
   "source": []
  }
 ],
 "metadata": {
  "kernelspec": {
   "display_name": "Python 3 (ipykernel)",
   "language": "python",
   "name": "python3"
  },
  "language_info": {
   "codemirror_mode": {
    "name": "ipython",
    "version": 3
   },
   "file_extension": ".py",
   "mimetype": "text/x-python",
   "name": "python",
   "nbconvert_exporter": "python",
   "pygments_lexer": "ipython3",
   "version": "3.11.7"
  }
 },
 "nbformat": 4,
 "nbformat_minor": 5
}
